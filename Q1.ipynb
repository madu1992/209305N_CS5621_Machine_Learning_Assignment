{
  "nbformat": 4,
  "nbformat_minor": 0,
  "metadata": {
    "colab": {
      "name": "Question1.ipynb",
      "provenance": [],
      "collapsed_sections": []
    },
    "kernelspec": {
      "name": "python3",
      "display_name": "Python 3"
    }
  },
  "cells": [
    {
      "cell_type": "code",
      "metadata": {
        "id": "3_Z8IwRq6vJk",
        "colab_type": "code",
        "colab": {
          "base_uri": "https://localhost:8080/",
          "height": 35
        },
        "outputId": "0a744b00-5f47-4dc1-de26-689756bafbf0"
      },
      "source": [
        "import tensorflow\n",
        "print(tensorflow.__version__)"
      ],
      "execution_count": 1,
      "outputs": [
        {
          "output_type": "stream",
          "text": [
            "2.2.0\n"
          ],
          "name": "stdout"
        }
      ]
    },
    {
      "cell_type": "code",
      "metadata": {
        "id": "1VVTdaPg69Kn",
        "colab_type": "code",
        "colab": {
          "base_uri": "https://localhost:8080/",
          "height": 54
        },
        "outputId": "efa58712-6217-42a4-c4c5-21b1448c8f89"
      },
      "source": [
        "import tensorflow as tf\n",
        "(x_train, y_train), (x_test, y_test) = tf.keras.datasets.mnist.load_data()"
      ],
      "execution_count": 2,
      "outputs": [
        {
          "output_type": "stream",
          "text": [
            "Downloading data from https://storage.googleapis.com/tensorflow/tf-keras-datasets/mnist.npz\n",
            "11493376/11490434 [==============================] - 0s 0us/step\n"
          ],
          "name": "stdout"
        }
      ]
    },
    {
      "cell_type": "code",
      "metadata": {
        "id": "9HIKqUiB7aRJ",
        "colab_type": "code",
        "colab": {
          "base_uri": "https://localhost:8080/",
          "height": 35
        },
        "outputId": "630ed1a3-c76a-42ac-e533-864cbd77c1e7"
      },
      "source": [
        "from IPython.display import Image  \n",
        "from graphviz import Source\n",
        "\n",
        "import numpy as np\n",
        "\n",
        "from keras.layers import Conv2D, Input, Dense, Dropout, MaxPool2D, UpSampling2D\n",
        "from keras.models import Model\n",
        "from keras.datasets import mnist, cifar10"
      ],
      "execution_count": 3,
      "outputs": [
        {
          "output_type": "stream",
          "text": [
            "Using TensorFlow backend.\n"
          ],
          "name": "stderr"
        }
      ]
    },
    {
      "cell_type": "code",
      "metadata": {
        "id": "C0DGqnhW7d7y",
        "colab_type": "code",
        "colab": {
          "base_uri": "https://localhost:8080/",
          "height": 302
        },
        "outputId": "633773c9-3b47-4ad6-9da2-37f3e55f5680"
      },
      "source": [
        "import matplotlib.pyplot as plt\n",
        "\n",
        "image_index = 7777 # You may select anything up to 60,000\n",
        "print(y_train[image_index]) # The label is 8\n",
        "plt.imshow(x_train[image_index], cmap='Greys')\n",
        "\n"
      ],
      "execution_count": 5,
      "outputs": [
        {
          "output_type": "stream",
          "text": [
            "8\n"
          ],
          "name": "stdout"
        },
        {
          "output_type": "execute_result",
          "data": {
            "text/plain": [
              "<matplotlib.image.AxesImage at 0x7f8f8ded5da0>"
            ]
          },
          "metadata": {
            "tags": []
          },
          "execution_count": 5
        },
        {
          "output_type": "display_data",
          "data": {
            "image/png": "[encoded data removed]",
            "text/plain": [
              "<Figure size 432x288 with 1 Axes>"
            ]
          },
          "metadata": {
            "tags": [],
            "needs_background": "light"
          }
        }
      ]
    },
    {
      "cell_type": "code",
      "metadata": {
        "id": "0PPFO_Rk8K-R",
        "colab_type": "code",
        "colab": {
          "base_uri": "https://localhost:8080/",
          "height": 72
        },
        "outputId": "9562a416-8b1e-4593-cd30-4399e2052bcd"
      },
      "source": [
        "# Reshaping the array to 4-dims so that it can work with the Keras API\n",
        "x_train = x_train.reshape(x_train.shape[0], 28, 28, 1)\n",
        "x_test = x_test.reshape(x_test.shape[0], 28, 28, 1)\n",
        "input_shape = (28, 28, 1)\n",
        "# Making sure that the values are float so that we can get decimal points after division\n",
        "x_train = x_train.astype('float32')\n",
        "x_test = x_test.astype('float32')\n",
        "# Normalizing the RGB codes by dividing it to the max RGB value.\n",
        "x_train /= 255\n",
        "x_test /= 255\n",
        "print('x_train shape:', x_train.shape)\n",
        "print('Number of images in x_train', x_train.shape[0])\n",
        "print('Number of images in x_test', x_test.shape[0])"
      ],
      "execution_count": 8,
      "outputs": [
        {
          "output_type": "stream",
          "text": [
            "x_train shape: (60000, 28, 28, 1)\n",
            "Number of images in x_train 60000\n",
            "Number of images in x_test 10000\n"
          ],
          "name": "stdout"
        }
      ]
    },
    {
      "cell_type": "code",
      "metadata": {
        "id": "yvMW8vKC8TN0",
        "colab_type": "code",
        "colab": {}
      },
      "source": [
        "# Importing the required Keras modules containing model and layers\n",
        "from tensorflow.keras.models import Sequential\n",
        "from tensorflow.keras.layers import Dense, Conv2D, Dropout, Flatten, MaxPooling2D\n",
        "# Creating a Sequential Model and adding the layers\n",
        "model = Sequential()\n",
        "model.add(Conv2D(28, kernel_size=(3,3), input_shape=input_shape))\n",
        "model.add(MaxPooling2D(pool_size=(2, 2)))\n",
        "model.add(Flatten()) # Flattening the 2D arrays for fully connected layers\n",
        "model.add(Dense(128, activation=tf.nn.relu))\n",
        "model.add(Dropout(0.2))\n",
        "model.add(Dense(10,activation=tf.nn.softmax))"
      ],
      "execution_count": 9,
      "outputs": []
    },
    {
      "cell_type": "code",
      "metadata": {
        "id": "X_zCg-qZ8gqF",
        "colab_type": "code",
        "colab": {
          "base_uri": "https://localhost:8080/",
          "height": 1000
        },
        "outputId": "b9758661-8d72-47a7-a488-5ed3f47bfa35"
      },
      "source": [
        "model.compile(optimizer='adam', \n",
        "              loss='sparse_categorical_crossentropy', \n",
        "              metrics=['accuracy'])\n",
        "loss = model.fit(x=x_train,y=y_train, epochs =50)\n"
      ],
      "execution_count": 16,
      "outputs": [
        {
          "output_type": "stream",
          "text": [
            "Epoch 1/50\n",
            "1875/1875 [==============================] - 32s 17ms/step - loss: 0.1039 - accuracy: 0.9687\n",
            "Epoch 2/50\n",
            "1875/1875 [==============================] - 31s 16ms/step - loss: 0.0938 - accuracy: 0.9708\n",
            "Epoch 3/50\n",
            "1875/1875 [==============================] - 31s 17ms/step - loss: 0.0869 - accuracy: 0.9730\n",
            "Epoch 4/50\n",
            "1875/1875 [==============================] - 32s 17ms/step - loss: 0.0796 - accuracy: 0.9750\n",
            "Epoch 5/50\n",
            "1875/1875 [==============================] - 32s 17ms/step - loss: 0.0756 - accuracy: 0.9762\n",
            "Epoch 6/50\n",
            "1875/1875 [==============================] - 33s 17ms/step - loss: 0.0724 - accuracy: 0.9770\n",
            "Epoch 7/50\n",
            "1875/1875 [==============================] - 31s 17ms/step - loss: 0.0682 - accuracy: 0.9787\n",
            "Epoch 8/50\n",
            "1875/1875 [==============================] - 32s 17ms/step - loss: 0.0645 - accuracy: 0.9784\n",
            "Epoch 9/50\n",
            "1875/1875 [==============================] - 32s 17ms/step - loss: 0.0624 - accuracy: 0.9797\n",
            "Epoch 10/50\n",
            "1875/1875 [==============================] - 31s 17ms/step - loss: 0.0603 - accuracy: 0.9803\n",
            "Epoch 11/50\n",
            "1875/1875 [==============================] - 30s 16ms/step - loss: 0.0580 - accuracy: 0.9812\n",
            "Epoch 12/50\n",
            "1875/1875 [==============================] - 31s 16ms/step - loss: 0.0538 - accuracy: 0.9822\n",
            "Epoch 13/50\n",
            "1875/1875 [==============================] - 30s 16ms/step - loss: 0.0529 - accuracy: 0.9826\n",
            "Epoch 14/50\n",
            "1875/1875 [==============================] - 31s 16ms/step - loss: 0.0511 - accuracy: 0.9828\n",
            "Epoch 15/50\n",
            "1875/1875 [==============================] - 32s 17ms/step - loss: 0.0493 - accuracy: 0.9835\n",
            "Epoch 16/50\n",
            "1875/1875 [==============================] - 31s 17ms/step - loss: 0.0477 - accuracy: 0.9841\n",
            "Epoch 17/50\n",
            "1875/1875 [==============================] - 31s 17ms/step - loss: 0.0468 - accuracy: 0.9842\n",
            "Epoch 18/50\n",
            "1875/1875 [==============================] - 30s 16ms/step - loss: 0.0412 - accuracy: 0.9865\n",
            "Epoch 19/50\n",
            "1875/1875 [==============================] - 30s 16ms/step - loss: 0.0429 - accuracy: 0.9851\n",
            "Epoch 20/50\n",
            "1875/1875 [==============================] - 30s 16ms/step - loss: 0.0411 - accuracy: 0.9866\n",
            "Epoch 21/50\n",
            "1875/1875 [==============================] - 31s 16ms/step - loss: 0.0400 - accuracy: 0.9862\n",
            "Epoch 22/50\n",
            "1875/1875 [==============================] - 32s 17ms/step - loss: 0.0399 - accuracy: 0.9864\n",
            "Epoch 23/50\n",
            "1875/1875 [==============================] - 32s 17ms/step - loss: 0.0389 - accuracy: 0.9868\n",
            "Epoch 24/50\n",
            "1875/1875 [==============================] - 32s 17ms/step - loss: 0.0371 - accuracy: 0.9873\n",
            "Epoch 25/50\n",
            "1875/1875 [==============================] - 32s 17ms/step - loss: 0.0369 - accuracy: 0.9873\n",
            "Epoch 26/50\n",
            "1875/1875 [==============================] - 31s 17ms/step - loss: 0.0351 - accuracy: 0.9879\n",
            "Epoch 27/50\n",
            "1875/1875 [==============================] - 32s 17ms/step - loss: 0.0337 - accuracy: 0.9887\n",
            "Epoch 28/50\n",
            "1875/1875 [==============================] - 32s 17ms/step - loss: 0.0328 - accuracy: 0.9892\n",
            "Epoch 29/50\n",
            "1875/1875 [==============================] - 32s 17ms/step - loss: 0.0318 - accuracy: 0.9887\n",
            "Epoch 30/50\n",
            "1875/1875 [==============================] - 32s 17ms/step - loss: 0.0321 - accuracy: 0.9892\n",
            "Epoch 31/50\n",
            "1875/1875 [==============================] - 31s 17ms/step - loss: 0.0314 - accuracy: 0.9893\n",
            "Epoch 32/50\n",
            "1875/1875 [==============================] - 32s 17ms/step - loss: 0.0311 - accuracy: 0.9890\n",
            "Epoch 33/50\n",
            "1875/1875 [==============================] - 32s 17ms/step - loss: 0.0306 - accuracy: 0.9898\n",
            "Epoch 34/50\n",
            "1875/1875 [==============================] - 32s 17ms/step - loss: 0.0300 - accuracy: 0.9894\n",
            "Epoch 35/50\n",
            "1875/1875 [==============================] - 33s 18ms/step - loss: 0.0285 - accuracy: 0.9901\n",
            "Epoch 36/50\n",
            "1875/1875 [==============================] - 32s 17ms/step - loss: 0.0267 - accuracy: 0.9909\n",
            "Epoch 37/50\n",
            "1875/1875 [==============================] - 32s 17ms/step - loss: 0.0278 - accuracy: 0.9906\n",
            "Epoch 38/50\n",
            "1875/1875 [==============================] - 32s 17ms/step - loss: 0.0271 - accuracy: 0.9904\n",
            "Epoch 39/50\n",
            "1875/1875 [==============================] - 33s 17ms/step - loss: 0.0262 - accuracy: 0.9909\n",
            "Epoch 40/50\n",
            "1875/1875 [==============================] - 31s 17ms/step - loss: 0.0271 - accuracy: 0.9905\n",
            "Epoch 41/50\n",
            "1875/1875 [==============================] - 32s 17ms/step - loss: 0.0256 - accuracy: 0.9913\n",
            "Epoch 42/50\n",
            "1875/1875 [==============================] - 32s 17ms/step - loss: 0.0243 - accuracy: 0.9915\n",
            "Epoch 43/50\n",
            "1875/1875 [==============================] - 33s 17ms/step - loss: 0.0257 - accuracy: 0.9913\n",
            "Epoch 44/50\n",
            "1875/1875 [==============================] - 32s 17ms/step - loss: 0.0239 - accuracy: 0.9919\n",
            "Epoch 45/50\n",
            "1875/1875 [==============================] - 33s 18ms/step - loss: 0.0227 - accuracy: 0.9920\n",
            "Epoch 46/50\n",
            "1875/1875 [==============================] - 32s 17ms/step - loss: 0.0237 - accuracy: 0.9920\n",
            "Epoch 47/50\n",
            "1875/1875 [==============================] - 33s 17ms/step - loss: 0.0214 - accuracy: 0.9925\n",
            "Epoch 48/50\n",
            "1875/1875 [==============================] - 32s 17ms/step - loss: 0.0237 - accuracy: 0.9918\n",
            "Epoch 49/50\n",
            "1875/1875 [==============================] - 33s 18ms/step - loss: 0.0221 - accuracy: 0.9925\n",
            "Epoch 50/50\n",
            "1875/1875 [==============================] - 32s 17ms/step - loss: 0.0212 - accuracy: 0.9927\n"
          ],
          "name": "stdout"
        }
      ]
    },
    {
      "cell_type": "code",
      "metadata": {
        "id": "Xs52dYs0cD8M",
        "colab_type": "code",
        "colab": {
          "base_uri": "https://localhost:8080/",
          "height": 313
        },
        "outputId": "005c66ae-0958-442b-eec7-93a19e0b01c9"
      },
      "source": [
        "plt.plot(range(50),loss.history['loss'])\n",
        "plt.xlabel('Epochs')\n",
        "plt.ylabel('Loss')\n",
        "plt.title('Loss Curve of the Model')\n",
        "plt.grid(alpha=0.3)\n",
        "plt.legend()\n",
        "plt.savefig(\"Loss_curve.png\")\n",
        "plt.show()"
      ],
      "execution_count": 17,
      "outputs": [
        {
          "output_type": "stream",
          "text": [
            "No handles with labels found to put in legend.\n"
          ],
          "name": "stderr"
        },
        {
          "output_type": "display_data",
          "data": {
            "image/png": "[encoded data removed]",
            "text/plain": [
              "<Figure size 432x288 with 1 Axes>"
            ]
          },
          "metadata": {
            "tags": [],
            "needs_background": "light"
          }
        }
      ]
    },
    {
      "cell_type": "code",
      "metadata": {
        "id": "xOnw-k5L9xKH",
        "colab_type": "code",
        "colab": {
          "base_uri": "https://localhost:8080/",
          "height": 54
        },
        "outputId": "c0f65afc-838e-4bff-eeb4-68a4156ee50a"
      },
      "source": [
        "# Calculate Test loss and Test Accuracy\n",
        "print('Loss and Accuracy of the Model:', model.evaluate(x_test, y_test))\n"
      ],
      "execution_count": 18,
      "outputs": [
        {
          "output_type": "stream",
          "text": [
            "313/313 [==============================] - 2s 7ms/step - loss: 0.0698 - accuracy: 0.9832\n",
            "Loss and Accuracy of the Model: [0.06983453780412674, 0.9832000136375427]\n"
          ],
          "name": "stdout"
        }
      ]
    },
    {
      "cell_type": "code",
      "metadata": {
        "id": "74-2KS629_8i",
        "colab_type": "code",
        "colab": {
          "base_uri": "https://localhost:8080/",
          "height": 299
        },
        "outputId": "d1910dfe-37d7-48dd-9f36-8afc7f6c6631"
      },
      "source": [
        "image_index = 4444\n",
        "plt.imshow(x_test[image_index].reshape(28, 28),cmap='Greys')\n",
        "pred = model.predict(x_test[image_index].reshape(1, 28, 28, 1))\n",
        "plt.title('Model classifies this image as a 9 (Nine)')\n",
        "print(pred.argmax())"
      ],
      "execution_count": 19,
      "outputs": [
        {
          "output_type": "stream",
          "text": [
            "9\n"
          ],
          "name": "stdout"
        },
        {
          "output_type": "display_data",
          "data": {
            "image/png": "[encoded data removed]",
            "text/plain": [
              "<Figure size 432x288 with 1 Axes>"
            ]
          },
          "metadata": {
            "tags": [],
            "needs_background": "light"
          }
        }
      ]
    }
  ]
}