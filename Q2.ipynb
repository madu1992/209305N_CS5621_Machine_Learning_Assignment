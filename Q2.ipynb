{
  "nbformat": 4,
  "nbformat_minor": 0,
  "metadata": {
    "colab": {
      "name": "Question2.ipynb",
      "provenance": [],
      "collapsed_sections": []
    },
    "kernelspec": {
      "name": "python3",
      "display_name": "Python 3"
    }
  },
  "cells": [
    {
      "cell_type": "code",
      "metadata": {
        "id": "Gh4H12ePSyLT",
        "colab_type": "code",
        "colab": {
          "base_uri": "https://localhost:8080/",
          "height": 35
        },
        "outputId": "1816cda4-b8c7-4818-bde4-cab80912c579"
      },
      "source": [
        "import tensorflow\n",
        "print(tensorflow.__version__)\n",
        "import numpy as np"
      ],
      "execution_count": 21,
      "outputs": [
        {
          "output_type": "stream",
          "text": [
            "2.2.0\n"
          ],
          "name": "stdout"
        }
      ]
    },
    {
      "cell_type": "code",
      "metadata": {
        "id": "LpsYaJ41TH0b",
        "colab_type": "code",
        "colab": {}
      },
      "source": [
        "import tensorflow as tf\n",
        "(x_train, y_train), (x_test, y_test) = tf.keras.datasets.mnist.load_data()"
      ],
      "execution_count": 22,
      "outputs": []
    },
    {
      "cell_type": "code",
      "metadata": {
        "id": "bal_ZhkbTMva",
        "colab_type": "code",
        "colab": {}
      },
      "source": [
        "from IPython.display import Image  \n",
        "from graphviz import Source\n",
        "import matplotlib.pyplot as plt"
      ],
      "execution_count": 23,
      "outputs": []
    },
    {
      "cell_type": "code",
      "metadata": {
        "id": "36fQZ6TKT_ET",
        "colab_type": "code",
        "colab": {
          "base_uri": "https://localhost:8080/",
          "height": 72
        },
        "outputId": "54387dcc-0417-4f1b-bcad-69bbcee29086"
      },
      "source": [
        "# Reshaping the array to 4-dims so that it can work with the Keras API\n",
        "x_train = x_train.reshape(x_train.shape[0], 28, 28, 1)\n",
        "x_test = x_test.reshape(x_test.shape[0], 28, 28, 1)\n",
        "input_shape = (28, 28, 1)\n",
        "# Making sure that the values are float so that we can get decimal points after division\n",
        "x_train = x_train.astype('float32')\n",
        "x_test = x_test.astype('float32')\n",
        "# Normalizing the RGB codes by dividing it to the max RGB value.\n",
        "x_train /= 255\n",
        "x_test /= 255\n",
        "print('x_train shape:', x_train.shape)\n",
        "print('Number of images in x_train', x_train.shape[0])\n",
        "print('Number of images in x_test', x_test.shape[0])"
      ],
      "execution_count": 14,
      "outputs": [
        {
          "output_type": "stream",
          "text": [
            "x_train shape: (60000, 28, 28, 1)\n",
            "Number of images in x_train 60000\n",
            "Number of images in x_test 10000\n"
          ],
          "name": "stdout"
        }
      ]
    },
    {
      "cell_type": "code",
      "metadata": {
        "id": "EB7aiLtyUnzM",
        "colab_type": "code",
        "colab": {}
      },
      "source": [
        "noise_factor = 0.10\n",
        "x_train_noisy = x_train + noise_factor * np.random.normal(loc =0.0,scale=1.0,size=x_train.shape)\n",
        "x_test_noisy = x_test + noise_factor * np.random.normal(loc =0.0,scale=1.0,size=x_test.shape)\n",
        "x_train_noisy = np.clip(x_train_noisy,0.,1.)\n",
        "x_test_noisy = np.clip(x_test_noisy,0.,1.)"
      ],
      "execution_count": 15,
      "outputs": []
    },
    {
      "cell_type": "code",
      "metadata": {
        "id": "_KvHSJeLjcpe",
        "colab_type": "code",
        "colab": {}
      },
      "source": [
        "noise_factor = 0.25\n",
        "x_train_noisy_2 = x_train + noise_factor * np.random.normal(loc =0.0,scale=1.0,size=x_train.shape)\n",
        "x_test_noisy_2 = x_test + noise_factor * np.random.normal(loc =0.0,scale=1.0,size=x_test.shape)\n",
        "x_train_noisy_2 = np.clip(x_train_noisy_2,0.,1.)\n",
        "x_test_noisy_2 = np.clip(x_test_noisy_2,0.,1.)"
      ],
      "execution_count": 16,
      "outputs": []
    },
    {
      "cell_type": "code",
      "metadata": {
        "id": "APwUkr0Wj0T-",
        "colab_type": "code",
        "colab": {}
      },
      "source": [
        "noise_factor = 0.45\n",
        "x_train_noisy_3 = x_train + noise_factor * np.random.normal(loc =0.0,scale=1.0,size=x_train.shape)\n",
        "x_test_noisy_3 = x_test + noise_factor * np.random.normal(loc =0.0,scale=1.0,size=x_test.shape)\n",
        "x_train_noisy_3 = np.clip(x_train_noisy_3,0.,1.)\n",
        "x_test_noisy_3 = np.clip(x_test_noisy_3,0.,1.)"
      ],
      "execution_count": 17,
      "outputs": []
    },
    {
      "cell_type": "code",
      "metadata": {
        "id": "HNbJ3tToWwPt",
        "colab_type": "code",
        "colab": {}
      },
      "source": [
        "# Importing the required Keras modules containing model and layers\n",
        "from tensorflow.keras.models import Sequential\n",
        "from tensorflow.keras.layers import Dense, Conv2D, Dropout, Flatten, MaxPooling2D\n",
        "# Creating a Sequential Model and adding the layers\n",
        "model = Sequential()\n",
        "model.add(Conv2D(28, kernel_size=(3,3), input_shape=input_shape))\n",
        "model.add(MaxPooling2D(pool_size=(2, 2)))\n",
        "model.add(Flatten()) # Flattening the 2D arrays for fully connected layers\n",
        "model.add(Dense(128, activation=tf.nn.relu))\n",
        "model.add(Dropout(0.2))\n",
        "model.add(Dense(10,activation=tf.nn.softmax))"
      ],
      "execution_count": 18,
      "outputs": []
    },
    {
      "cell_type": "code",
      "metadata": {
        "id": "i4JxwSgeW0MH",
        "colab_type": "code",
        "colab": {
          "base_uri": "https://localhost:8080/",
          "height": 1000
        },
        "outputId": "2df16fad-f96f-4fcb-e86b-68996a4b30ed"
      },
      "source": [
        "model.compile(optimizer='adam', \n",
        "              loss='sparse_categorical_crossentropy', \n",
        "              metrics=['accuracy'])\n",
        "loss = model.fit(x=x_train_noisy,y=y_train,epochs=50)\n",
        "loss_2 = model.fit(x=x_train_noisy_2,y=y_train,epochs=50)\n",
        "loss_3 = model.fit(x=x_train_noisy_3,y=y_train,epochs=50)\n"
      ],
      "execution_count": 19,
      "outputs": [
        {
          "output_type": "stream",
          "text": [
            "Epoch 1/50\n",
            "1875/1875 [==============================] - 33s 18ms/step - loss: 0.2349 - accuracy: 0.9291\n",
            "Epoch 2/50\n",
            "1875/1875 [==============================] - 34s 18ms/step - loss: 0.0896 - accuracy: 0.9730\n",
            "Epoch 3/50\n",
            "1875/1875 [==============================] - 33s 18ms/step - loss: 0.0613 - accuracy: 0.9800\n",
            "Epoch 4/50\n",
            "1875/1875 [==============================] - 33s 18ms/step - loss: 0.0420 - accuracy: 0.9862\n",
            "Epoch 5/50\n",
            "1875/1875 [==============================] - 33s 18ms/step - loss: 0.0346 - accuracy: 0.9886\n",
            "Epoch 6/50\n",
            "1875/1875 [==============================] - 33s 18ms/step - loss: 0.0277 - accuracy: 0.9910\n",
            "Epoch 7/50\n",
            "1875/1875 [==============================] - 33s 18ms/step - loss: 0.0204 - accuracy: 0.9931\n",
            "Epoch 8/50\n",
            "1875/1875 [==============================] - 33s 17ms/step - loss: 0.0197 - accuracy: 0.9934\n",
            "Epoch 9/50\n",
            "1875/1875 [==============================] - 33s 18ms/step - loss: 0.0180 - accuracy: 0.9940\n",
            "Epoch 10/50\n",
            "1875/1875 [==============================] - 33s 17ms/step - loss: 0.0162 - accuracy: 0.9945\n",
            "Epoch 11/50\n",
            "1875/1875 [==============================] - 33s 18ms/step - loss: 0.0136 - accuracy: 0.9956\n",
            "Epoch 12/50\n",
            "1875/1875 [==============================] - 33s 18ms/step - loss: 0.0135 - accuracy: 0.9956\n",
            "Epoch 13/50\n",
            "1875/1875 [==============================] - 33s 18ms/step - loss: 0.0137 - accuracy: 0.9951\n",
            "Epoch 14/50\n",
            "1875/1875 [==============================] - 33s 18ms/step - loss: 0.0117 - accuracy: 0.9959\n",
            "Epoch 15/50\n",
            "1875/1875 [==============================] - 33s 17ms/step - loss: 0.0107 - accuracy: 0.9963\n",
            "Epoch 16/50\n",
            "1875/1875 [==============================] - 33s 18ms/step - loss: 0.0111 - accuracy: 0.9963\n",
            "Epoch 17/50\n",
            "1875/1875 [==============================] - 32s 17ms/step - loss: 0.0102 - accuracy: 0.9966\n",
            "Epoch 18/50\n",
            "1875/1875 [==============================] - 36s 19ms/step - loss: 0.0101 - accuracy: 0.9967\n",
            "Epoch 19/50\n",
            "1875/1875 [==============================] - 33s 18ms/step - loss: 0.0113 - accuracy: 0.9963\n",
            "Epoch 20/50\n",
            "1875/1875 [==============================] - 33s 18ms/step - loss: 0.0100 - accuracy: 0.9969\n",
            "Epoch 21/50\n",
            "1875/1875 [==============================] - 33s 18ms/step - loss: 0.0086 - accuracy: 0.9970\n",
            "Epoch 22/50\n",
            "1875/1875 [==============================] - 33s 17ms/step - loss: 0.0120 - accuracy: 0.9963\n",
            "Epoch 23/50\n",
            "1875/1875 [==============================] - 33s 18ms/step - loss: 0.0090 - accuracy: 0.9970\n",
            "Epoch 24/50\n",
            "1875/1875 [==============================] - 33s 18ms/step - loss: 0.0084 - accuracy: 0.9969\n",
            "Epoch 25/50\n",
            "1875/1875 [==============================] - 33s 18ms/step - loss: 0.0073 - accuracy: 0.9977\n",
            "Epoch 26/50\n",
            "1875/1875 [==============================] - 33s 18ms/step - loss: 0.0091 - accuracy: 0.9973\n",
            "Epoch 27/50\n",
            "1875/1875 [==============================] - 33s 18ms/step - loss: 0.0081 - accuracy: 0.9974\n",
            "Epoch 28/50\n",
            "1875/1875 [==============================] - 33s 18ms/step - loss: 0.0098 - accuracy: 0.9971\n",
            "Epoch 29/50\n",
            "1875/1875 [==============================] - 33s 18ms/step - loss: 0.0087 - accuracy: 0.9973\n",
            "Epoch 30/50\n",
            "1875/1875 [==============================] - 33s 18ms/step - loss: 0.0079 - accuracy: 0.9975\n",
            "Epoch 31/50\n",
            "1875/1875 [==============================] - 33s 18ms/step - loss: 0.0081 - accuracy: 0.9975\n",
            "Epoch 32/50\n",
            "1875/1875 [==============================] - 33s 18ms/step - loss: 0.0086 - accuracy: 0.9974\n",
            "Epoch 33/50\n",
            "1875/1875 [==============================] - 34s 18ms/step - loss: 0.0082 - accuracy: 0.9974\n",
            "Epoch 34/50\n",
            "1875/1875 [==============================] - 33s 18ms/step - loss: 0.0083 - accuracy: 0.9974\n",
            "Epoch 35/50\n",
            "1875/1875 [==============================] - 33s 18ms/step - loss: 0.0085 - accuracy: 0.9976\n",
            "Epoch 36/50\n",
            "1875/1875 [==============================] - 36s 19ms/step - loss: 0.0073 - accuracy: 0.9978\n",
            "Epoch 37/50\n",
            "1875/1875 [==============================] - 33s 18ms/step - loss: 0.0075 - accuracy: 0.9978\n",
            "Epoch 38/50\n",
            "1875/1875 [==============================] - 33s 18ms/step - loss: 0.0078 - accuracy: 0.9977\n",
            "Epoch 39/50\n",
            "1875/1875 [==============================] - 33s 17ms/step - loss: 0.0079 - accuracy: 0.9977\n",
            "Epoch 40/50\n",
            "1875/1875 [==============================] - 33s 18ms/step - loss: 0.0079 - accuracy: 0.9977\n",
            "Epoch 41/50\n",
            "1875/1875 [==============================] - 33s 18ms/step - loss: 0.0066 - accuracy: 0.9980\n",
            "Epoch 42/50\n",
            "1875/1875 [==============================] - 33s 18ms/step - loss: 0.0059 - accuracy: 0.9981\n",
            "Epoch 43/50\n",
            "1875/1875 [==============================] - 33s 18ms/step - loss: 0.0079 - accuracy: 0.9976\n",
            "Epoch 44/50\n",
            "1875/1875 [==============================] - 33s 18ms/step - loss: 0.0084 - accuracy: 0.9976\n",
            "Epoch 45/50\n",
            "1875/1875 [==============================] - 33s 17ms/step - loss: 0.0082 - accuracy: 0.9977\n",
            "Epoch 46/50\n",
            "1875/1875 [==============================] - 33s 17ms/step - loss: 0.0053 - accuracy: 0.9982\n",
            "Epoch 47/50\n",
            "1875/1875 [==============================] - 33s 18ms/step - loss: 0.0063 - accuracy: 0.9980\n",
            "Epoch 48/50\n",
            "1875/1875 [==============================] - 33s 17ms/step - loss: 0.0085 - accuracy: 0.9978\n",
            "Epoch 49/50\n",
            "1875/1875 [==============================] - 33s 17ms/step - loss: 0.0063 - accuracy: 0.9982\n",
            "Epoch 50/50\n",
            "1875/1875 [==============================] - 33s 17ms/step - loss: 0.0080 - accuracy: 0.9977\n",
            "Epoch 1/50\n",
            "1875/1875 [==============================] - 33s 17ms/step - loss: 0.1560 - accuracy: 0.9678\n",
            "Epoch 2/50\n",
            "1875/1875 [==============================] - 33s 18ms/step - loss: 0.0631 - accuracy: 0.9819\n",
            "Epoch 3/50\n",
            "1875/1875 [==============================] - 33s 18ms/step - loss: 0.0419 - accuracy: 0.9870\n",
            "Epoch 4/50\n",
            "1875/1875 [==============================] - 33s 18ms/step - loss: 0.0316 - accuracy: 0.9900\n",
            "Epoch 5/50\n",
            "1875/1875 [==============================] - 36s 19ms/step - loss: 0.0287 - accuracy: 0.9906\n",
            "Epoch 6/50\n",
            "1875/1875 [==============================] - 33s 17ms/step - loss: 0.0265 - accuracy: 0.9919\n",
            "Epoch 7/50\n",
            "1875/1875 [==============================] - 33s 17ms/step - loss: 0.0217 - accuracy: 0.9932\n",
            "Epoch 8/50\n",
            "1875/1875 [==============================] - 33s 17ms/step - loss: 0.0192 - accuracy: 0.9938\n",
            "Epoch 9/50\n",
            "1875/1875 [==============================] - 33s 17ms/step - loss: 0.0170 - accuracy: 0.9942\n",
            "Epoch 10/50\n",
            "1875/1875 [==============================] - 32s 17ms/step - loss: 0.0191 - accuracy: 0.9940\n",
            "Epoch 11/50\n",
            "1875/1875 [==============================] - 33s 18ms/step - loss: 0.0166 - accuracy: 0.9947\n",
            "Epoch 12/50\n",
            "1875/1875 [==============================] - 33s 18ms/step - loss: 0.0189 - accuracy: 0.9944\n",
            "Epoch 13/50\n",
            "1875/1875 [==============================] - 33s 17ms/step - loss: 0.0165 - accuracy: 0.9951\n",
            "Epoch 14/50\n",
            "1875/1875 [==============================] - 33s 17ms/step - loss: 0.0134 - accuracy: 0.9959\n",
            "Epoch 15/50\n",
            "1875/1875 [==============================] - 33s 17ms/step - loss: 0.0150 - accuracy: 0.9953\n",
            "Epoch 16/50\n",
            "1875/1875 [==============================] - 33s 17ms/step - loss: 0.0127 - accuracy: 0.9959\n",
            "Epoch 17/50\n",
            "1875/1875 [==============================] - 33s 17ms/step - loss: 0.0127 - accuracy: 0.9959\n",
            "Epoch 18/50\n",
            "1875/1875 [==============================] - 33s 17ms/step - loss: 0.0152 - accuracy: 0.9954\n",
            "Epoch 19/50\n",
            "1875/1875 [==============================] - 33s 18ms/step - loss: 0.0128 - accuracy: 0.9959\n",
            "Epoch 20/50\n",
            "1875/1875 [==============================] - 33s 18ms/step - loss: 0.0118 - accuracy: 0.9966\n",
            "Epoch 21/50\n",
            "1875/1875 [==============================] - 33s 18ms/step - loss: 0.0115 - accuracy: 0.9966\n",
            "Epoch 22/50\n",
            "1875/1875 [==============================] - 33s 18ms/step - loss: 0.0115 - accuracy: 0.9964\n",
            "Epoch 23/50\n",
            "1875/1875 [==============================] - 36s 19ms/step - loss: 0.0117 - accuracy: 0.9965\n",
            "Epoch 24/50\n",
            "1875/1875 [==============================] - 33s 18ms/step - loss: 0.0122 - accuracy: 0.9963\n",
            "Epoch 25/50\n",
            "1875/1875 [==============================] - 34s 18ms/step - loss: 0.0110 - accuracy: 0.9969\n",
            "Epoch 26/50\n",
            "1875/1875 [==============================] - 33s 18ms/step - loss: 0.0126 - accuracy: 0.9963\n",
            "Epoch 27/50\n",
            "1875/1875 [==============================] - 33s 18ms/step - loss: 0.0098 - accuracy: 0.9968\n",
            "Epoch 28/50\n",
            "1875/1875 [==============================] - 33s 18ms/step - loss: 0.0119 - accuracy: 0.9966\n",
            "Epoch 29/50\n",
            "1875/1875 [==============================] - 33s 17ms/step - loss: 0.0105 - accuracy: 0.9971\n",
            "Epoch 30/50\n",
            "1875/1875 [==============================] - 33s 18ms/step - loss: 0.0112 - accuracy: 0.9969\n",
            "Epoch 31/50\n",
            "1875/1875 [==============================] - 33s 18ms/step - loss: 0.0107 - accuracy: 0.9968\n",
            "Epoch 32/50\n",
            "1875/1875 [==============================] - 33s 18ms/step - loss: 0.0096 - accuracy: 0.9972\n",
            "Epoch 33/50\n",
            "1875/1875 [==============================] - 33s 18ms/step - loss: 0.0102 - accuracy: 0.9972\n",
            "Epoch 34/50\n",
            "1875/1875 [==============================] - 33s 18ms/step - loss: 0.0110 - accuracy: 0.9970\n",
            "Epoch 35/50\n",
            "1875/1875 [==============================] - 33s 18ms/step - loss: 0.0099 - accuracy: 0.9972\n",
            "Epoch 36/50\n",
            "1875/1875 [==============================] - 33s 18ms/step - loss: 0.0094 - accuracy: 0.9972\n",
            "Epoch 37/50\n",
            "1875/1875 [==============================] - 33s 17ms/step - loss: 0.0106 - accuracy: 0.9969\n",
            "Epoch 38/50\n",
            "1875/1875 [==============================] - 33s 17ms/step - loss: 0.0079 - accuracy: 0.9978\n",
            "Epoch 39/50\n",
            "1875/1875 [==============================] - 33s 18ms/step - loss: 0.0096 - accuracy: 0.9971\n",
            "Epoch 40/50\n",
            "1875/1875 [==============================] - 33s 17ms/step - loss: 0.0085 - accuracy: 0.9975\n",
            "Epoch 41/50\n",
            "1875/1875 [==============================] - 33s 18ms/step - loss: 0.0091 - accuracy: 0.9975\n",
            "Epoch 42/50\n",
            "1875/1875 [==============================] - 36s 19ms/step - loss: 0.0103 - accuracy: 0.9971\n",
            "Epoch 43/50\n",
            "1875/1875 [==============================] - 33s 17ms/step - loss: 0.0084 - accuracy: 0.9978\n",
            "Epoch 44/50\n",
            "1875/1875 [==============================] - 33s 17ms/step - loss: 0.0098 - accuracy: 0.9973\n",
            "Epoch 45/50\n",
            "1875/1875 [==============================] - 33s 18ms/step - loss: 0.0098 - accuracy: 0.9972\n",
            "Epoch 46/50\n",
            "1875/1875 [==============================] - 33s 18ms/step - loss: 0.0086 - accuracy: 0.9974\n",
            "Epoch 47/50\n",
            "1875/1875 [==============================] - 33s 18ms/step - loss: 0.0080 - accuracy: 0.9977\n",
            "Epoch 48/50\n",
            "1875/1875 [==============================] - 33s 18ms/step - loss: 0.0079 - accuracy: 0.9977\n",
            "Epoch 49/50\n",
            "1875/1875 [==============================] - 33s 18ms/step - loss: 0.0111 - accuracy: 0.9972\n",
            "Epoch 50/50\n",
            "1875/1875 [==============================] - 33s 17ms/step - loss: 0.0084 - accuracy: 0.9977\n",
            "Epoch 1/50\n",
            "1875/1875 [==============================] - 33s 18ms/step - loss: 0.4301 - accuracy: 0.9005\n",
            "Epoch 2/50\n",
            "1875/1875 [==============================] - 33s 17ms/step - loss: 0.2149 - accuracy: 0.9377\n",
            "Epoch 3/50\n",
            "1875/1875 [==============================] - 33s 18ms/step - loss: 0.1479 - accuracy: 0.9537\n",
            "Epoch 4/50\n",
            "1875/1875 [==============================] - 33s 18ms/step - loss: 0.1100 - accuracy: 0.9629\n",
            "Epoch 5/50\n",
            "1875/1875 [==============================] - 33s 18ms/step - loss: 0.0861 - accuracy: 0.9708\n",
            "Epoch 6/50\n",
            "1875/1875 [==============================] - 33s 18ms/step - loss: 0.0707 - accuracy: 0.9751\n",
            "Epoch 7/50\n",
            "1875/1875 [==============================] - 33s 18ms/step - loss: 0.0583 - accuracy: 0.9801\n",
            "Epoch 8/50\n",
            "1875/1875 [==============================] - 34s 18ms/step - loss: 0.0524 - accuracy: 0.9817\n",
            "Epoch 9/50\n",
            "1875/1875 [==============================] - 33s 18ms/step - loss: 0.0445 - accuracy: 0.9849\n",
            "Epoch 10/50\n",
            "1875/1875 [==============================] - 36s 19ms/step - loss: 0.0414 - accuracy: 0.9859\n",
            "Epoch 11/50\n",
            "1875/1875 [==============================] - 33s 18ms/step - loss: 0.0364 - accuracy: 0.9876\n",
            "Epoch 12/50\n",
            "1875/1875 [==============================] - 33s 18ms/step - loss: 0.0358 - accuracy: 0.9880\n",
            "Epoch 13/50\n",
            "1875/1875 [==============================] - 33s 18ms/step - loss: 0.0363 - accuracy: 0.9879\n",
            "Epoch 14/50\n",
            "1875/1875 [==============================] - 33s 17ms/step - loss: 0.0310 - accuracy: 0.9894\n",
            "Epoch 15/50\n",
            "1875/1875 [==============================] - 33s 17ms/step - loss: 0.0312 - accuracy: 0.9902\n",
            "Epoch 16/50\n",
            "1875/1875 [==============================] - 32s 17ms/step - loss: 0.0294 - accuracy: 0.9903\n",
            "Epoch 17/50\n",
            "1875/1875 [==============================] - 33s 18ms/step - loss: 0.0275 - accuracy: 0.9913\n",
            "Epoch 18/50\n",
            "1875/1875 [==============================] - 33s 17ms/step - loss: 0.0265 - accuracy: 0.9917\n",
            "Epoch 19/50\n",
            "1875/1875 [==============================] - 32s 17ms/step - loss: 0.0249 - accuracy: 0.9918\n",
            "Epoch 20/50\n",
            "1875/1875 [==============================] - 33s 17ms/step - loss: 0.0237 - accuracy: 0.9920\n",
            "Epoch 21/50\n",
            "1875/1875 [==============================] - 32s 17ms/step - loss: 0.0242 - accuracy: 0.9919\n",
            "Epoch 22/50\n",
            "1875/1875 [==============================] - 32s 17ms/step - loss: 0.0229 - accuracy: 0.9924\n",
            "Epoch 23/50\n",
            "1875/1875 [==============================] - 32s 17ms/step - loss: 0.0241 - accuracy: 0.9922\n",
            "Epoch 24/50\n",
            "1875/1875 [==============================] - 33s 17ms/step - loss: 0.0219 - accuracy: 0.9930\n",
            "Epoch 25/50\n",
            "1875/1875 [==============================] - 33s 17ms/step - loss: 0.0215 - accuracy: 0.9933\n",
            "Epoch 26/50\n",
            "1875/1875 [==============================] - 33s 17ms/step - loss: 0.0215 - accuracy: 0.9933\n",
            "Epoch 27/50\n",
            "1875/1875 [==============================] - 33s 18ms/step - loss: 0.0223 - accuracy: 0.9933\n",
            "Epoch 28/50\n",
            "1875/1875 [==============================] - 33s 17ms/step - loss: 0.0196 - accuracy: 0.9933\n",
            "Epoch 29/50\n",
            "1875/1875 [==============================] - 35s 19ms/step - loss: 0.0192 - accuracy: 0.9938\n",
            "Epoch 30/50\n",
            "1875/1875 [==============================] - 32s 17ms/step - loss: 0.0213 - accuracy: 0.9934\n",
            "Epoch 31/50\n",
            "1875/1875 [==============================] - 33s 17ms/step - loss: 0.0201 - accuracy: 0.9938\n",
            "Epoch 32/50\n",
            "1875/1875 [==============================] - 32s 17ms/step - loss: 0.0198 - accuracy: 0.9938\n",
            "Epoch 33/50\n",
            "1875/1875 [==============================] - 33s 17ms/step - loss: 0.0177 - accuracy: 0.9946\n",
            "Epoch 34/50\n",
            "1875/1875 [==============================] - 32s 17ms/step - loss: 0.0169 - accuracy: 0.9944\n",
            "Epoch 35/50\n",
            "1875/1875 [==============================] - 33s 17ms/step - loss: 0.0174 - accuracy: 0.9947\n",
            "Epoch 36/50\n",
            "1875/1875 [==============================] - 33s 18ms/step - loss: 0.0187 - accuracy: 0.9942\n",
            "Epoch 37/50\n",
            "1875/1875 [==============================] - 32s 17ms/step - loss: 0.0193 - accuracy: 0.9940\n",
            "Epoch 38/50\n",
            "1875/1875 [==============================] - 33s 17ms/step - loss: 0.0177 - accuracy: 0.9945\n",
            "Epoch 39/50\n",
            "1875/1875 [==============================] - 33s 17ms/step - loss: 0.0175 - accuracy: 0.9947\n",
            "Epoch 40/50\n",
            "1875/1875 [==============================] - 33s 17ms/step - loss: 0.0169 - accuracy: 0.9944\n",
            "Epoch 41/50\n",
            "1875/1875 [==============================] - 32s 17ms/step - loss: 0.0156 - accuracy: 0.9952\n",
            "Epoch 42/50\n",
            "1875/1875 [==============================] - 33s 17ms/step - loss: 0.0179 - accuracy: 0.9947\n",
            "Epoch 43/50\n",
            "1875/1875 [==============================] - 33s 17ms/step - loss: 0.0161 - accuracy: 0.9951\n",
            "Epoch 44/50\n",
            "1875/1875 [==============================] - 32s 17ms/step - loss: 0.0164 - accuracy: 0.9951\n",
            "Epoch 45/50\n",
            "1875/1875 [==============================] - 32s 17ms/step - loss: 0.0158 - accuracy: 0.9951\n",
            "Epoch 46/50\n",
            "1875/1875 [==============================] - 33s 18ms/step - loss: 0.0149 - accuracy: 0.9956\n",
            "Epoch 47/50\n",
            "1875/1875 [==============================] - 35s 19ms/step - loss: 0.0163 - accuracy: 0.9953\n",
            "Epoch 48/50\n",
            "1875/1875 [==============================] - 32s 17ms/step - loss: 0.0160 - accuracy: 0.9951\n",
            "Epoch 49/50\n",
            "1875/1875 [==============================] - 32s 17ms/step - loss: 0.0155 - accuracy: 0.9954\n",
            "Epoch 50/50\n",
            "1875/1875 [==============================] - 32s 17ms/step - loss: 0.0156 - accuracy: 0.9952\n"
          ],
          "name": "stdout"
        }
      ]
    },
    {
      "cell_type": "code",
      "metadata": {
        "id": "CIcD02Wha8ET",
        "colab_type": "code",
        "colab": {
          "base_uri": "https://localhost:8080/",
          "height": 295
        },
        "outputId": "40fb6501-c8a2-4060-feb0-c51d70b19aef"
      },
      "source": [
        "plt.plot(range(50),loss.history['loss'])\n",
        "plt.xlabel('Epochs')\n",
        "plt.ylabel('Loss')\n",
        "plt.title('Loss Curve with noisy_factor as 0.1')\n",
        "plt.grid(alpha=0.3)\n",
        "plt.savefig(\"Loss_curve with noisy_factor as 0.1.png\")\n",
        "plt.show()"
      ],
      "execution_count": 26,
      "outputs": [
        {
          "output_type": "display_data",
          "data": {
            "image/png": "[encoded data removed]",
            "text/plain": [
              "<Figure size 432x288 with 1 Axes>"
            ]
          },
          "metadata": {
            "tags": [],
            "needs_background": "light"
          }
        }
      ]
    },
    {
      "cell_type": "code",
      "metadata": {
        "id": "kGzUNLtIi29H",
        "colab_type": "code",
        "colab": {
          "base_uri": "https://localhost:8080/",
          "height": 295
        },
        "outputId": "c78520ff-1229-47b0-98e8-3fe5321ed365"
      },
      "source": [
        "plt.plot(range(50),loss_2.history['loss'])\n",
        "plt.xlabel('Epochs')\n",
        "plt.ylabel('Loss')\n",
        "plt.title('Loss Curve with noisy_factor as 0.25')\n",
        "plt.grid(alpha=0.3)\n",
        "plt.savefig(\"Loss_curve with noisy_factor as 0.25.png\")\n",
        "plt.show()"
      ],
      "execution_count": 27,
      "outputs": [
        {
          "output_type": "display_data",
          "data": {
            "image/png": "[encoded data removed]",
            "text/plain": [
              "<Figure size 432x288 with 1 Axes>"
            ]
          },
          "metadata": {
            "tags": [],
            "needs_background": "light"
          }
        }
      ]
    },
    {
      "cell_type": "code",
      "metadata": {
        "id": "xs3XGsrilVzY",
        "colab_type": "code",
        "colab": {
          "base_uri": "https://localhost:8080/",
          "height": 295
        },
        "outputId": "081da8de-cfce-40e5-8f24-d20a714aee00"
      },
      "source": [
        "plt.plot(range(50),loss_3.history['loss'])\n",
        "plt.xlabel('Epochs')\n",
        "plt.ylabel('Loss')\n",
        "plt.title('Loss Curve with noisy_factor as 0.45')\n",
        "plt.grid(alpha=0.3)\n",
        "plt.savefig(\"Loss_curve with noisy_factor as 0.45.png\")\n",
        "plt.show()"
      ],
      "execution_count": 28,
      "outputs": [
        {
          "output_type": "display_data",
          "data": {
            "image/png": "[encoded data removed]",
            "text/plain": [
              "<Figure size 432x288 with 1 Axes>"
            ]
          },
          "metadata": {
            "tags": [],
            "needs_background": "light"
          }
        }
      ]
    },
    {
      "cell_type": "code",
      "metadata": {
        "id": "pTAeJovXh9nV",
        "colab_type": "code",
        "colab": {
          "base_uri": "https://localhost:8080/",
          "height": 127
        },
        "outputId": "5bb4b673-4004-4b1b-c7b4-02070e90181a"
      },
      "source": [
        "# Calculate Test loss and Test Accuracy\n",
        "print('Loss and Accuracy of model with noisy factor as 0.1:', model.evaluate(x_test_noisy, y_test))\n",
        "print('Loss andAccuracy of model with noisy factor as 0.25:', model.evaluate(x_test_noisy_2, y_test))\n",
        "print('Loss andAccuracy of model with noisy factor as 0.45:', model.evaluate(x_test_noisy_3, y_test))"
      ],
      "execution_count": 29,
      "outputs": [
        {
          "output_type": "stream",
          "text": [
            "313/313 [==============================] - 2s 7ms/step - loss: 0.2754 - accuracy: 0.9792\n",
            "Loss and Accuracy of model with noisy factor as 0.1: [0.2754444479942322, 0.979200005531311]\n",
            "313/313 [==============================] - 2s 7ms/step - loss: 0.2697 - accuracy: 0.9745\n",
            "Loss andAccuracy of model with noisy factor as 0.25: [0.26966381072998047, 0.9745000004768372]\n",
            "313/313 [==============================] - 2s 7ms/step - loss: 0.4680 - accuracy: 0.9452\n",
            "Loss andAccuracy of model with noisy factor as 0.45: [0.46803081035614014, 0.9452000260353088]\n"
          ],
          "name": "stdout"
        }
      ]
    },
    {
      "cell_type": "code",
      "metadata": {
        "id": "CjKYiw8Ds0n5",
        "colab_type": "code",
        "colab": {
          "base_uri": "https://localhost:8080/",
          "height": 299
        },
        "outputId": "8acb42e7-f05d-4548-8764-a35e3c0ae758"
      },
      "source": [
        "image_index = 4444\n",
        "plt.imshow(x_test_noisy[image_index].reshape(28, 28),cmap='Greys')\n",
        "pred = model.predict(x_test_noisy[image_index].reshape(1, 28, 28, 1))\n",
        "plt.title('Classifies this image as a 9 (Nine) with noisy_factor as 0.1')\n",
        "print(pred.argmax())\n"
      ],
      "execution_count": 30,
      "outputs": [
        {
          "output_type": "stream",
          "text": [
            "9\n"
          ],
          "name": "stdout"
        },
        {
          "output_type": "display_data",
          "data": {
            "image/png": "[encoded data removed]",
            "text/plain": [
              "<Figure size 432x288 with 1 Axes>"
            ]
          },
          "metadata": {
            "tags": [],
            "needs_background": "light"
          }
        }
      ]
    },
    {
      "cell_type": "code",
      "metadata": {
        "id": "Po-1bKs6tHuz",
        "colab_type": "code",
        "colab": {
          "base_uri": "https://localhost:8080/",
          "height": 299
        },
        "outputId": "9863cad1-526a-42f6-c6ae-9a91080ab26f"
      },
      "source": [
        "image_index = 4444\n",
        "plt.imshow(x_test_noisy_2[image_index].reshape(28, 28),cmap='Greys')\n",
        "pred = model.predict(x_test_noisy_2[image_index].reshape(1, 28, 28, 1))\n",
        "plt.title('Classifies this image as a 9 (Nine) with noisy_factor as 0.25')\n",
        "print(pred.argmax())"
      ],
      "execution_count": 31,
      "outputs": [
        {
          "output_type": "stream",
          "text": [
            "9\n"
          ],
          "name": "stdout"
        },
        {
          "output_type": "display_data",
          "data": {
            "image/png": "[encoded data removed]",
            "text/plain": [
              "<Figure size 432x288 with 1 Axes>"
            ]
          },
          "metadata": {
            "tags": [],
            "needs_background": "light"
          }
        }
      ]
    },
    {
      "cell_type": "code",
      "metadata": {
        "id": "1-smUTlJtWgp",
        "colab_type": "code",
        "colab": {
          "base_uri": "https://localhost:8080/",
          "height": 299
        },
        "outputId": "059804ef-ab0c-470b-a0de-827b225e3663"
      },
      "source": [
        "image_index = 4444\n",
        "plt.imshow(x_test_noisy_3[image_index].reshape(28, 28),cmap='Greys')\n",
        "pred = model.predict(x_test_noisy_3[image_index].reshape(1, 28, 28, 1))\n",
        "plt.title('Classifies this image as a 9 (Nine) with noisy_factor as 0.45')\n",
        "print(pred.argmax())"
      ],
      "execution_count": 32,
      "outputs": [
        {
          "output_type": "stream",
          "text": [
            "9\n"
          ],
          "name": "stdout"
        },
        {
          "output_type": "display_data",
          "data": {
            "image/png": "[encoded data removed]",
            "text/plain": [
              "<Figure size 432x288 with 1 Axes>"
            ]
          },
          "metadata": {
            "tags": [],
            "needs_background": "light"
          }
        }
      ]
    }
  ]
}